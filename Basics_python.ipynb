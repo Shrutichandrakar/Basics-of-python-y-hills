{
 "cells": [
  {
   "cell_type": "code",
   "execution_count": null,
   "id": "7ec3163d",
   "metadata": {},
   "outputs": [],
   "source": [
    "sample_set={\"hello\", \"hi\", 2,5,6}"
   ]
  },
  {
   "cell_type": "code",
   "execution_count": 1,
   "id": "6edaeccc",
   "metadata": {},
   "outputs": [
    {
     "ename": "NameError",
     "evalue": "name 'sample_set' is not defined",
     "output_type": "error",
     "traceback": [
      "\u001b[1;31m---------------------------------------------------------------------------\u001b[0m",
      "\u001b[1;31mNameError\u001b[0m                                 Traceback (most recent call last)",
      "Cell \u001b[1;32mIn[1], line 1\u001b[0m\n\u001b[1;32m----> 1\u001b[0m sample_set\n",
      "\u001b[1;31mNameError\u001b[0m: name 'sample_set' is not defined"
     ]
    }
   ],
   "source": [
    "sample_set"
   ]
  },
  {
   "cell_type": "code",
   "execution_count": 2,
   "id": "ededf096",
   "metadata": {},
   "outputs": [
    {
     "data": {
      "text/plain": [
       "{2, 5, 6, 'hello', 'hi'}"
      ]
     },
     "execution_count": 2,
     "metadata": {},
     "output_type": "execute_result"
    }
   ],
   "source": [
    "sample_set={\"hello\", \"hi\", 2,5,6}\n",
    "sample_set"
   ]
  },
  {
   "cell_type": "code",
   "execution_count": 3,
   "id": "968cfbe8",
   "metadata": {},
   "outputs": [
    {
     "ename": "SyntaxError",
     "evalue": "cannot assign to literal here. Maybe you meant '==' instead of '='? (3905773875.py, line 1)",
     "output_type": "error",
     "traceback": [
      "\u001b[1;36m  Cell \u001b[1;32mIn[3], line 1\u001b[1;36m\u001b[0m\n\u001b[1;33m    dict_1= {\"name\"=\"soumya\", \"hobby\"=[\"playing foot ball\", \"coding\", \"hacking\"]}\u001b[0m\n\u001b[1;37m             ^\u001b[0m\n\u001b[1;31mSyntaxError\u001b[0m\u001b[1;31m:\u001b[0m cannot assign to literal here. Maybe you meant '==' instead of '='?\n"
     ]
    }
   ],
   "source": [
    "dict_1= {\"name\"=\"soumya\", \"hobby\"=[\"playing foot ball\", \"coding\", \"hacking\"]}\n",
    "dict_1\n"
   ]
  },
  {
   "cell_type": "code",
   "execution_count": 4,
   "id": "8c93e15f",
   "metadata": {},
   "outputs": [
    {
     "ename": "SyntaxError",
     "evalue": "cannot assign to literal here. Maybe you meant '==' instead of '='? (3054655855.py, line 1)",
     "output_type": "error",
     "traceback": [
      "\u001b[1;36m  Cell \u001b[1;32mIn[4], line 1\u001b[1;36m\u001b[0m\n\u001b[1;33m    dict_1= {'name'=\"soumya\", \"hobby\"=[\"playing foot ball\", \"coding\", \"hacking\"]}\u001b[0m\n\u001b[1;37m             ^\u001b[0m\n\u001b[1;31mSyntaxError\u001b[0m\u001b[1;31m:\u001b[0m cannot assign to literal here. Maybe you meant '==' instead of '='?\n"
     ]
    }
   ],
   "source": [
    "dict_1= {'name'=\"soumya\", \"hobby\"=[\"playing foot ball\", \"coding\", \"hacking\"]}\n",
    "dict_1\n"
   ]
  },
  {
   "cell_type": "code",
   "execution_count": 5,
   "id": "c7c479d0",
   "metadata": {},
   "outputs": [
    {
     "ename": "SyntaxError",
     "evalue": "':' expected after dictionary key (2968078545.py, line 1)",
     "output_type": "error",
     "traceback": [
      "\u001b[1;36m  Cell \u001b[1;32mIn[5], line 1\u001b[1;36m\u001b[0m\n\u001b[1;33m    dict_1= {\"name\":\"soumya\", \"hobby\":=[\"playing foot ball\", \"coding\", \"hacking\"]}\u001b[0m\n\u001b[1;37m                                    ^\u001b[0m\n\u001b[1;31mSyntaxError\u001b[0m\u001b[1;31m:\u001b[0m ':' expected after dictionary key\n"
     ]
    }
   ],
   "source": [
    "dict_1= {\"name\":\"soumya\", \"hobby\":=[\"playing foot ball\", \"coding\", \"hacking\"]}\n",
    "dict_1\n"
   ]
  },
  {
   "cell_type": "code",
   "execution_count": 6,
   "id": "e3ccd917",
   "metadata": {},
   "outputs": [
    {
     "data": {
      "text/plain": [
       "{'name': 'soumya', 'hobby': ['playing foot ball', 'coding', 'hacking']}"
      ]
     },
     "execution_count": 6,
     "metadata": {},
     "output_type": "execute_result"
    }
   ],
   "source": [
    "dict_1= {\"name\":\"soumya\", \"hobby\":[\"playing foot ball\", \"coding\", \"hacking\"]}\n",
    "dict_1\n"
   ]
  },
  {
   "cell_type": "code",
   "execution_count": 7,
   "id": "08685c87",
   "metadata": {},
   "outputs": [
    {
     "data": {
      "text/plain": [
       "2"
      ]
     },
     "execution_count": 7,
     "metadata": {},
     "output_type": "execute_result"
    }
   ],
   "source": [
    "len (dict_1)"
   ]
  },
  {
   "cell_type": "code",
   "execution_count": 8,
   "id": "fff4dadd",
   "metadata": {},
   "outputs": [
    {
     "data": {
      "text/plain": [
       "dict"
      ]
     },
     "execution_count": 8,
     "metadata": {},
     "output_type": "execute_result"
    }
   ],
   "source": [
    "type (dict_1)"
   ]
  },
  {
   "cell_type": "code",
   "execution_count": 9,
   "id": "73af2be5",
   "metadata": {},
   "outputs": [
    {
     "data": {
      "text/plain": [
       "dict_items([('name', 'soumya'), ('hobby', ['playing foot ball', 'coding', 'hacking'])])"
      ]
     },
     "execution_count": 9,
     "metadata": {},
     "output_type": "execute_result"
    }
   ],
   "source": [
    "dict_1.items()"
   ]
  },
  {
   "cell_type": "code",
   "execution_count": 10,
   "id": "c0718fb0",
   "metadata": {},
   "outputs": [
    {
     "ename": "AttributeError",
     "evalue": "'dict' object has no attribute 'key'",
     "output_type": "error",
     "traceback": [
      "\u001b[1;31m---------------------------------------------------------------------------\u001b[0m",
      "\u001b[1;31mAttributeError\u001b[0m                            Traceback (most recent call last)",
      "Cell \u001b[1;32mIn[10], line 1\u001b[0m\n\u001b[1;32m----> 1\u001b[0m dict_1\u001b[38;5;241m.\u001b[39mkey()\n",
      "\u001b[1;31mAttributeError\u001b[0m: 'dict' object has no attribute 'key'"
     ]
    }
   ],
   "source": [
    "dict_1.key()"
   ]
  },
  {
   "cell_type": "code",
   "execution_count": 11,
   "id": "a7c1624f",
   "metadata": {},
   "outputs": [
    {
     "data": {
      "text/plain": [
       "dict_keys(['name', 'hobby'])"
      ]
     },
     "execution_count": 11,
     "metadata": {},
     "output_type": "execute_result"
    }
   ],
   "source": [
    "dict_1.keys()"
   ]
  },
  {
   "cell_type": "code",
   "execution_count": 12,
   "id": "6a42a468",
   "metadata": {},
   "outputs": [
    {
     "data": {
      "text/plain": [
       "{'name': 'soumya',\n",
       " 'hobby': ['playing foot ball', 'coding', 'hacking'],\n",
       " 'class': 'data Science'}"
      ]
     },
     "execution_count": 12,
     "metadata": {},
     "output_type": "execute_result"
    }
   ],
   "source": [
    "dict_1.update({\"class\":\"data Science\"})\n",
    "dict_1"
   ]
  },
  {
   "cell_type": "code",
   "execution_count": null,
   "id": "95263c7f",
   "metadata": {},
   "outputs": [],
   "source": []
  }
 ],
 "metadata": {
  "kernelspec": {
   "display_name": "Python 3 (ipykernel)",
   "language": "python",
   "name": "python3"
  },
  "language_info": {
   "codemirror_mode": {
    "name": "ipython",
    "version": 3
   },
   "file_extension": ".py",
   "mimetype": "text/x-python",
   "name": "python",
   "nbconvert_exporter": "python",
   "pygments_lexer": "ipython3",
   "version": "3.11.5"
  }
 },
 "nbformat": 4,
 "nbformat_minor": 5
}
